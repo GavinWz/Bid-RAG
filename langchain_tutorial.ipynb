{
 "cells": [
  {
   "cell_type": "code",
   "id": "initial_id",
   "metadata": {
    "collapsed": true,
    "ExecuteTime": {
     "end_time": "2025-02-18T02:31:40.432009Z",
     "start_time": "2025-02-18T02:31:29.762165Z"
    }
   },
   "source": [
    "from langchain_core.messages import HumanMessage, SystemMessage, AIMessage\n",
    "from langchain.prompts import HumanMessagePromptTemplate, SystemMessagePromptTemplate, AIMessagePromptTemplate, \\\n",
    "    PromptTemplate, MessagesPlaceholder\n",
    "from langchain_core.output_parsers import StrOutputParser\n",
    "from langchain_core.prompts import ChatPromptTemplate\n",
    "from langchain_openai import ChatOpenAI\n",
    "\n",
    "from rag.config import Config\n",
    "\n",
    "config = Config()\n",
    "llm = ChatOpenAI(api_key=config.api_key, base_url=config.base_url, model='glm4-9b')\n",
    "\n",
    "prompt_template = ChatPromptTemplate.from_messages([\n",
    "    SystemMessagePromptTemplate.from_template(\"你是一个{field}领域的问答机器人，请回答用户问题。\"),\n",
    "    MessagesPlaceholder(variable_name='history'),\n",
    "    HumanMessagePromptTemplate.from_template(\"{input}\"),\n",
    "])\n",
    "# prompt = prompt_template.invoke({'field': \"教育\", 'input': \"为什么要学习？\", 'history':[HumanMessage(\"你叫什么？\"), AIMessage(\"我没有叫。\")]})\n",
    "\n",
    "# print(prompt)\n",
    "chain = prompt_template | llm | StrOutputParser()\n",
    "history = [HumanMessage(\"你叫什么？\"), AIMessage(\"我没有叫。\")]\n",
    "\n",
    "\n",
    "\n",
    "user_input = input()\n",
    "ai_message = chain.invoke({'field': \"教育\", 'input': user_input, 'history': history})\n",
    "\n",
    "history.append(HumanMessage(user_input))\n",
    "history.append(AIMessage(ai_message))\n",
    "print(ai_message)\n"
   ],
   "outputs": [
    {
     "name": "stdout",
     "output_type": "stream",
     "text": [
      "\n",
      "学习有以下几个重要性：\n",
      "\n",
      "1. **知识积累**：学习使我们能够了解世界、掌握知识，提高自己的文化素养和专业技能。\n",
      "\n",
      "2. **个人成长**：通过学习，我们可以不断提升自己，实现个人潜能的最大化。\n",
      "\n",
      "3. **社会适应**：社会在不断发展，学习可以帮助我们适应不断变化的环境，提高就业竞争力。\n",
      "\n",
      "4. **解决问题**：学习提供了分析问题、解决问题的方法，使我们能够更好地处理生活中的各类挑战。\n",
      "\n",
      "5. **思维锻炼**：学习过程中的思考和分析有助于锻炼思维能力，提高批判性思维和创造性思维能力。\n",
      "\n",
      "6. **人际交往**：学习通常需要与他人合作和沟通，这有助于提高人际交往能力。\n",
      "\n",
      "7. **社会责任**：教育和学习是每个公民的责任，通过学习，我们能够更好地为社会做出贡献。\n",
      "\n",
      "总之，学习是实现个人价值、适应社会发展、实现自我超越的重要途径。\n"
     ]
    }
   ],
   "execution_count": 2
  },
  {
   "metadata": {},
   "cell_type": "code",
   "outputs": [],
   "execution_count": null,
   "source": "",
   "id": "d6265bfb18c33408"
  }
 ],
 "metadata": {
  "kernelspec": {
   "display_name": "Python 3",
   "language": "python",
   "name": "python3"
  },
  "language_info": {
   "codemirror_mode": {
    "name": "ipython",
    "version": 2
   },
   "file_extension": ".py",
   "mimetype": "text/x-python",
   "name": "python",
   "nbconvert_exporter": "python",
   "pygments_lexer": "ipython2",
   "version": "2.7.6"
  }
 },
 "nbformat": 4,
 "nbformat_minor": 5
}
